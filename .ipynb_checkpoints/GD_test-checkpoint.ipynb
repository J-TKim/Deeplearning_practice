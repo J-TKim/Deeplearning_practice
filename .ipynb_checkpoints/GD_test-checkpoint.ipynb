{
 "cells": [
  {
   "cell_type": "code",
   "execution_count": 1,
   "metadata": {},
   "outputs": [],
   "source": [
    "import numpy as np"
   ]
  },
  {
   "cell_type": "code",
   "execution_count": 2,
   "metadata": {},
   "outputs": [],
   "source": [
    "# f(x, y) = x^2 + y^2   x : numpy array\n",
    "def f(x):\n",
    "    return x[0]**2 + x[1]**2"
   ]
  },
  {
   "cell_type": "code",
   "execution_count": 3,
   "metadata": {},
   "outputs": [],
   "source": [
    "def fx(x):\n",
    "    return 2*x[0]\n",
    "def fy(x):\n",
    "    return 2*x[1]"
   ]
  },
  {
   "cell_type": "code",
   "execution_count": 4,
   "metadata": {},
   "outputs": [],
   "source": [
    "def gradient_descent(fx, fy, init_x, lr=0.01, step_num=100):\n",
    "    x = init_x\n",
    "    \n",
    "    # Main GD\n",
    "    for i in range(step_num):\n",
    "        x0prev = x[0]\n",
    "        x1prev = x[1]\n",
    "        dx = -fx(x)\n",
    "        dy = -fy(x)\n",
    "        x[0] = x[0] + lr*dx\n",
    "        x[1] = x[1] + lr*dy\n",
    "        \n",
    "        norm_x = np.sqrt((x[0]-x0prev)**2 + (x[1]-x1prev)**2)\n",
    "        \n",
    "        if norm_x < 1e-8:\n",
    "            print(\"Converges at \", i)\n",
    "            break\n",
    "        \n",
    "    print(\"Min of f can be attained at (\", x[0], x[1], \")\")"
   ]
  },
  {
   "cell_type": "code",
   "execution_count": 5,
   "metadata": {},
   "outputs": [
    {
     "name": "stdout",
     "output_type": "stream",
     "text": [
      "Converges at  83\n",
      "Min of f can be attained at ( -2.171101673199681e-08 2.8948022309329066e-08 )\n"
     ]
    }
   ],
   "source": [
    "init_x = np.array([-3.0, 4.0])\n",
    "gradient_descent(fx, fy, init_x=init_x, lr=0.1, step_num=10000)"
   ]
  },
  {
   "cell_type": "code",
   "execution_count": 6,
   "metadata": {},
   "outputs": [
    {
     "name": "stdout",
     "output_type": "stream",
     "text": [
      "Converges at  83\n",
      "Min of f can be attained at ( -2.171101673199681e-08 2.8948022309329066e-08 )\n"
     ]
    }
   ],
   "source": [
    "init_x = np.array([-3.0, 4.0])\n",
    "gradient_descent(fx, fy, init_x=init_x, lr=0.1)"
   ]
  },
  {
   "cell_type": "code",
   "execution_count": 7,
   "metadata": {},
   "outputs": [
    {
     "name": "stdout",
     "output_type": "stream",
     "text": [
      "Min of f can be attained at ( -3.0 4.0 )\n"
     ]
    }
   ],
   "source": [
    "init_x = np.array([-3.0, 4.0])\n",
    "gradient_descent(fx, fy, init_x=init_x, lr=1)"
   ]
  },
  {
   "cell_type": "code",
   "execution_count": 8,
   "metadata": {},
   "outputs": [
    {
     "name": "stdout",
     "output_type": "stream",
     "text": [
      "Min of f can be attained at ( -2.2515487259475596e+128 3.002064967930081e+128 )\n"
     ]
    }
   ],
   "source": [
    "init_x = np.array([-3.0, 4.0])\n",
    "gradient_descent(fx, fy, init_x=init_x, lr=10)"
   ]
  },
  {
   "cell_type": "code",
   "execution_count": 9,
   "metadata": {},
   "outputs": [
    {
     "name": "stdout",
     "output_type": "stream",
     "text": [
      "Converges at  798\n",
      "Min of f can be attained at ( -2.9292452410337725e-07 3.905660321378359e-07 )\n"
     ]
    }
   ],
   "source": [
    "init_x = np.array([-3.0, 4.0])\n",
    "gradient_descent(fx, fy, init_x=init_x, lr=0.01, step_num=1000)"
   ]
  }
 ],
 "metadata": {
  "kernelspec": {
   "display_name": "Python 3",
   "language": "python",
   "name": "python3"
  },
  "language_info": {
   "codemirror_mode": {
    "name": "ipython",
    "version": 3
   },
   "file_extension": ".py",
   "mimetype": "text/x-python",
   "name": "python",
   "nbconvert_exporter": "python",
   "pygments_lexer": "ipython3",
   "version": "3.6.9"
  }
 },
 "nbformat": 4,
 "nbformat_minor": 4
}
