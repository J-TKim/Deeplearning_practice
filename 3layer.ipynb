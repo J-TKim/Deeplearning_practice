{
 "cells": [
  {
   "cell_type": "code",
   "execution_count": 1,
   "metadata": {},
   "outputs": [],
   "source": [
    "import numpy as np"
   ]
  },
  {
   "cell_type": "code",
   "execution_count": 2,
   "metadata": {},
   "outputs": [],
   "source": [
    "# Output function\n",
    "def identy_function(x):\n",
    "    return x\n",
    "\n",
    "# Sigmoid\n",
    "def sigmoid(x):\n",
    "    return 1 / (1 + np.exp(-x))"
   ]
  },
  {
   "cell_type": "code",
   "execution_count": 3,
   "metadata": {},
   "outputs": [],
   "source": [
    "# Initialize network\n",
    "def init_network():\n",
    "    network = {}\n",
    "    network[\"W1\"] = np.array([[0.1, 0.3, 0.5],\n",
    "                             [0.2, 0.4, 0.6]])\n",
    "    network[\"B1\"] = np.array([0.1, 0.2, 0.3])\n",
    "    network[\"W2\"] = np.array([[0.1, 0.4],\n",
    "                             [0.2, 0.5],\n",
    "                             [0.3, 0.6]])\n",
    "    network[\"B2\"] = np.array([0.1, 0.2])\n",
    "    network[\"W3\"] = np.array([[0.1, 0.3],\n",
    "                              [0.2, 0.4]])\n",
    "    network[\"B3\"] = np.array([0.1, 0.2])\n",
    "    \n",
    "    return network"
   ]
  },
  {
   "cell_type": "code",
   "execution_count": 4,
   "metadata": {},
   "outputs": [],
   "source": [
    "# Prediction : forward\n",
    "def forward(network, X):\n",
    "    W1, W2, W3 = network[\"W1\"], network[\"W2\"], network[\"W3\"]\n",
    "    B1, B2, B3 = network[\"B1\"], network[\"B2\"], network[\"B3\"]\n",
    "    \n",
    "    A1 = np.dot(X, W1) + B1\n",
    "    Z1 = sigmoid(A1)\n",
    "    A2 = np.dot(Z1, W2) + B2\n",
    "    Z2 = sigmoid(A2)\n",
    "    A3 = np.dot(Z2, W3) + B3\n",
    "    Y = identy_function(A3)\n",
    "    \n",
    "    return Y"
   ]
  },
  {
   "cell_type": "code",
   "execution_count": 5,
   "metadata": {},
   "outputs": [
    {
     "name": "stdout",
     "output_type": "stream",
     "text": [
      "[0.31682708 0.69627909]\n"
     ]
    }
   ],
   "source": [
    "# Main routine\n",
    "network = init_network()\n",
    "X = np.array([1.0, 0.5])\n",
    "Y = forward(network, X)\n",
    "\n",
    "print(Y)"
   ]
  }
 ],
 "metadata": {
  "kernelspec": {
   "display_name": "Python 3",
   "language": "python",
   "name": "python3"
  },
  "language_info": {
   "codemirror_mode": {
    "name": "ipython",
    "version": 3
   },
   "file_extension": ".py",
   "mimetype": "text/x-python",
   "name": "python",
   "nbconvert_exporter": "python",
   "pygments_lexer": "ipython3",
   "version": "3.6.9"
  }
 },
 "nbformat": 4,
 "nbformat_minor": 4
}
