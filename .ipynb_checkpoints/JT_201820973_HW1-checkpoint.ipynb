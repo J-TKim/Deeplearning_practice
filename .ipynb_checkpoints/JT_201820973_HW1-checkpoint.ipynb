{
 "cells": [
  {
   "cell_type": "markdown",
   "metadata": {},
   "source": [
    "<table align=\"left\">\n",
    "  <td>\n",
    "    <a target=\"_blank\" href=\"https://colab.research.google.com/github/J-TKim/Deeplearning_practice/blob/master/JT_201820973_HW1.ipynb\"><img src=\"https://www.tensorflow.org/images/colab_logo_32px.png\" />구글 코랩에서 실행하기</a>\n",
    "  </td>\n",
    "</table>"
   ]
  },
  {
   "cell_type": "code",
   "execution_count": 1,
   "metadata": {},
   "outputs": [],
   "source": [
    "def Naive_Gauss(mat):\n",
    "    \n",
    "    ret_mat = [] # 리턴할 리스트 생성\n",
    "\n",
    "    row_index = list(range(len(mat))) # 행렬의 행 수 저장 (연산이 완료된 행은 삭제하며 진행)\n",
    "\n",
    "    col_index = len(mat[0]) # 행렬의 열 수 저장\n",
    "    \n",
    "    # 행렬의 열 수 만큼 반복한다.\n",
    "    \n",
    "    for col in range(col_index):\n",
    "    \n",
    "        # 0이 아닌 줄의 인덱스를 저장한다.\n",
    "        \n",
    "        rows_with_nonzero = [row for row in row_index if mat[row][col] != 0]\n",
    "        \n",
    "        \"\"\"\n",
    "        \n",
    "        col열 중에 맞는 0이 아닌 row을 찾아 리턴할 리스트에 추가하고\n",
    "        \n",
    "        해당 col이 0이 아닌 나머지 row들과 연산하여 나머지 row들의 col을 0으로 만드는 과정\n",
    "        \n",
    "        \"\"\"\n",
    "        \n",
    "        # row_with_nonzero가 비어있는 리스트가 아니라면\n",
    "        \n",
    "        if rows_with_nonzero:\n",
    "            \n",
    "            # row_with_nonzero의 첫 인덱스(원래 행렬의 행:mat[row][col]이 0 아닌 행)을 저장한다.\n",
    "            \n",
    "            pivot = rows_with_nonzero[0]\n",
    "            \n",
    "            # 리턴할 리스트에 방금 저장한 인덱스위치의 행을 추가한다.\n",
    "            \n",
    "            ret_mat.append(mat[pivot])\n",
    "            \n",
    "            # 방금 추가한 인덱스의 헹을 row_index에서 제거한다\n",
    "            \n",
    "            row_index.remove(pivot)\n",
    "            \n",
    "            # 제거하고 남은 col열 중에서 0이 아닌 행들동안 반복\n",
    "            \n",
    "            for row in rows_with_nonzero:\n",
    "                \n",
    "                # 만약 행이 방금 ret_mat에 추가한 행이 아니라면\n",
    "                \n",
    "                if row is not pivot:\n",
    "                    \n",
    "                    # multiplier : row행의 col을 0으로 만들어주기 위해 mat[pivot] 에 곱해줄 수\n",
    "                    \n",
    "                    multiplier = mat[row][col] / mat[pivot][col]\n",
    "                    \n",
    "                    # row행의 col을 0으로 만들어주는 작업\n",
    "                    \n",
    "                    mat[row] = [a - multiplier*b for a, b in zip(mat[row], mat[pivot])]           \n",
    "    \n",
    "    # 만약 위 과정에서 택해지지 않은 행이 있다면 (한 행이 모두 0인 row)\n",
    "    \n",
    "    for row in row_index:\n",
    "            \n",
    "        # ret_mat에 추가한다.\n",
    "        \n",
    "        ret_mat.append(mat[row])\n",
    "    \n",
    "    # ret_mat을 리턴한다.\n",
    "    \n",
    "    return ret_mat"
   ]
  },
  {
   "cell_type": "code",
   "execution_count": 2,
   "metadata": {},
   "outputs": [
    {
     "data": {
      "text/plain": [
       "[[1, 2, 3, 4, 1], [0, 1, 2, 3, 4], [0.0, 0.0, 2.0, 4.0, 10.0], [0, 0, 0, 0, 0]]"
      ]
     },
     "execution_count": 2,
     "metadata": {},
     "output_type": "execute_result"
    }
   ],
   "source": [
    "mat = [[1, 2, 3, 4, 1], \n",
    "         [0, 1, 2, 3, 4], \n",
    "         [1, 0, 1, 2, 3], \n",
    "         [0, 0, 0, 0, 0]]\n",
    "\n",
    "Naive_Gauss(mat)"
   ]
  }
 ],
 "metadata": {
  "kernelspec": {
   "display_name": "Python 3",
   "language": "python",
   "name": "python3"
  },
  "language_info": {
   "codemirror_mode": {
    "name": "ipython",
    "version": 3
   },
   "file_extension": ".py",
   "mimetype": "text/x-python",
   "name": "python",
   "nbconvert_exporter": "python",
   "pygments_lexer": "ipython3",
   "version": "3.6.9"
  }
 },
 "nbformat": 4,
 "nbformat_minor": 4
}
