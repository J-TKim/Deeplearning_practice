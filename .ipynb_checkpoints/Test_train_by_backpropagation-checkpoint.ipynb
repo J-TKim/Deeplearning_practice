{
 "cells": [
  {
   "cell_type": "code",
   "execution_count": 1,
   "metadata": {},
   "outputs": [],
   "source": [
    "import sys, os\n",
    "sys.path.append(os.pardir)\n",
    "import numpy as np\n",
    "from data.mnist import load_mnist\n",
    "from TwoLayerNet import TwoLayerNet"
   ]
  },
  {
   "cell_type": "code",
   "execution_count": 2,
   "metadata": {},
   "outputs": [],
   "source": [
    "# Load data\n",
    "(x_train, t_train), (x_test, t_test) = load_mnist(normalize=True, one_hot_label=False)"
   ]
  },
  {
   "cell_type": "code",
   "execution_count": 3,
   "metadata": {},
   "outputs": [],
   "source": [
    "# Define a network\n",
    "network = TwoLayerNet(input_size=784, hidden_size=50, output_size=10)\n",
    "\n",
    "# Hyperparameters\n",
    "iters_num = 10000 # 반복 횟수\n",
    "train_size = x_train.shape[0]\n",
    "batch_size = 100 # 미니배치 크기\n",
    "learning_rate = 0.1"
   ]
  },
  {
   "cell_type": "code",
   "execution_count": 4,
   "metadata": {},
   "outputs": [],
   "source": [
    "train_loss_list = []\n",
    "train_acc_list = []\n",
    "test_acc_list = []"
   ]
  },
  {
   "cell_type": "code",
   "execution_count": 5,
   "metadata": {},
   "outputs": [],
   "source": [
    "# 1 에폭당 반복 수\n",
    "iter_per_epoch = max(train_size / batch_size, 1)"
   ]
  },
  {
   "cell_type": "code",
   "execution_count": 6,
   "metadata": {},
   "outputs": [
    {
     "name": "stdout",
     "output_type": "stream",
     "text": [
      "train acc, test acc | 0.1089, 0.1046\n",
      "train acc, test acc | 0.90315, 0.9056\n",
      "train acc, test acc | 0.9221666666666667, 0.9241\n",
      "train acc, test acc | 0.9356, 0.936\n",
      "train acc, test acc | 0.9443, 0.9451\n",
      "train acc, test acc | 0.95215, 0.9502\n",
      "train acc, test acc | 0.9569, 0.9547\n",
      "train acc, test acc | 0.9614833333333334, 0.9573\n",
      "train acc, test acc | 0.9650333333333333, 0.9589\n",
      "train acc, test acc | 0.9677166666666667, 0.9633\n",
      "train acc, test acc | 0.9697166666666667, 0.9621\n",
      "train acc, test acc | 0.9721166666666666, 0.9653\n",
      "train acc, test acc | 0.9718166666666667, 0.9646\n",
      "train acc, test acc | 0.9753166666666667, 0.9686\n",
      "train acc, test acc | 0.9762166666666666, 0.9674\n",
      "train acc, test acc | 0.9775833333333334, 0.9689\n",
      "train acc, test acc | 0.9790333333333333, 0.9701\n"
     ]
    }
   ],
   "source": [
    "# Training\n",
    "for i in range(iters_num):\n",
    "    # 미니배치 획득\n",
    "    batch_mask = np.random.choice(train_size, batch_size)\n",
    "    x_batch = x_train[batch_mask]\n",
    "    t_batch = t_train[batch_mask]\n",
    "    \n",
    "    # Compute gradient\n",
    "    grad = network.gradient(x_batch, t_batch)\n",
    "    \n",
    "    # Update : GD\n",
    "    for key in (\"W1\", \"b1\", \"W2\", \"b2\"):\n",
    "        network.params[key] -= learning_rate * grad[key]\n",
    "    \n",
    "    # For  history\n",
    "    loss = network.loss(x_batch, t_batch)\n",
    "    train_loss_list.append(loss)\n",
    "    \n",
    "    # 에폭당 정확도 계산\n",
    "    if i % (iter_per_epoch) == 0:\n",
    "        train_acc = network.accuracy(x_train, t_train)\n",
    "        test_acc = network.accuracy(x_test, t_test)\n",
    "        train_acc_list.append(train_acc)\n",
    "        test_acc_list.append(test_acc)\n",
    "        print(\"train acc, test acc | \" + str(train_acc) + \", \" + str(test_acc))"
   ]
  }
 ],
 "metadata": {
  "kernelspec": {
   "display_name": "test",
   "language": "python",
   "name": "test"
  },
  "language_info": {
   "codemirror_mode": {
    "name": "ipython",
    "version": 3
   },
   "file_extension": ".py",
   "mimetype": "text/x-python",
   "name": "python",
   "nbconvert_exporter": "python",
   "pygments_lexer": "ipython3",
   "version": "3.6.9"
  }
 },
 "nbformat": 4,
 "nbformat_minor": 4
}
