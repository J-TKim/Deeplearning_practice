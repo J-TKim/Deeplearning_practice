{
 "cells": [
  {
   "cell_type": "code",
   "execution_count": 1,
   "metadata": {},
   "outputs": [],
   "source": [
    "import numpy as np\n",
    "import pickle\n",
    "import Activation_Functions as fts\n",
    "from data.mnist import load_mnist"
   ]
  },
  {
   "cell_type": "code",
   "execution_count": 2,
   "metadata": {},
   "outputs": [],
   "source": [
    "# Load MNIST\n",
    "def get_data():\n",
    "    (x_train, t_train), (x_test, t_test) = load_mnist(normalize=True, flatten=True, one_hot_label=False)\n",
    "    \n",
    "    return x_test, t_test"
   ]
  },
  {
   "cell_type": "code",
   "execution_count": 3,
   "metadata": {},
   "outputs": [],
   "source": [
    "# Load Weight and Bias\n",
    "def init_network():\n",
    "    with open(\"./data/sample_weight.pkl\", \"rb\") as f:\n",
    "        network = pickle.load(f)\n",
    "    \n",
    "    return network"
   ]
  },
  {
   "cell_type": "code",
   "execution_count": 4,
   "metadata": {},
   "outputs": [],
   "source": [
    "# Forward\n",
    "def predict(network, x):\n",
    "    W1, W2, W3 = network[\"W1\"], network[\"W2\"], network[\"W3\"]\n",
    "    B1, B2, B3 = network[\"b1\"], network[\"b2\"], network[\"b3\"]\n",
    "    \n",
    "    A1 = np.dot(x, W1) + B1\n",
    "    Z1 = fts.Sigmoid(A1)\n",
    "    A2 = np.dot(Z1, W2) + B2\n",
    "    Z2 = fts.Sigmoid(A2)\n",
    "    A3 = np.dot(Z2, W3) + B3\n",
    "    Y = fts.Softmax(A3)\n",
    "    \n",
    "    return Y"
   ]
  },
  {
   "cell_type": "code",
   "execution_count": 5,
   "metadata": {},
   "outputs": [
    {
     "name": "stdout",
     "output_type": "stream",
     "text": [
      "iter = 1000\n",
      "iter = 2000\n",
      "iter = 3000\n",
      "iter = 4000\n",
      "iter = 5000\n",
      "iter = 6000\n",
      "iter = 7000\n",
      "iter = 8000\n",
      "iter = 9000\n",
      "iter = 10000\n",
      "acc : 0.935200\n"
     ]
    }
   ],
   "source": [
    "# Main\n",
    "x, t = get_data() # x = x_test, t = t_test\n",
    "network = init_network()\n",
    "\n",
    "# Accuracy Check\n",
    "acc_cnt = 0\n",
    "for i in range(len(x)):\n",
    "    if (i + 1) % 1000 == 0:\n",
    "        print(\"iter =\", i + 1)\n",
    "    y = predict(network, x[i])\n",
    "    p = np.argmax(y)\n",
    "    if t[i] == p:\n",
    "        acc_cnt += 1\n",
    "        \n",
    "print(\"acc : %f\" % (float(acc_cnt) / len(x)))"
   ]
  }
 ],
 "metadata": {
  "kernelspec": {
   "display_name": "Python 3",
   "language": "python",
   "name": "python3"
  },
  "language_info": {
   "codemirror_mode": {
    "name": "ipython",
    "version": 3
   },
   "file_extension": ".py",
   "mimetype": "text/x-python",
   "name": "python",
   "nbconvert_exporter": "python",
   "pygments_lexer": "ipython3",
   "version": "3.6.9"
  }
 },
 "nbformat": 4,
 "nbformat_minor": 4
}
