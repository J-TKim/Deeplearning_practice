{
 "cells": [
  {
   "cell_type": "code",
   "execution_count": 1,
   "metadata": {},
   "outputs": [],
   "source": [
    "def pivoting(mat):\n",
    "    row_idx = list(range(len(mat)))\n",
    "    col_idx = len(mat[0])\n",
    "    pivot_mat = []\n",
    "    for c in range(col_idx):\n",
    "        rows_with_nonzero = [r for r in row_idx if mat[r][c] != 0]\n",
    "        if rows_with_nonzero:\n",
    "            pivot = rows_with_nonzero[0]\n",
    "            for idx in rows_with_nonzero:\n",
    "                pivot_mat.append(mat[idx])\n",
    "                row_idx.remove(idx)\n",
    "    return pivot_mat"
   ]
  },
  {
   "cell_type": "code",
   "execution_count": 2,
   "metadata": {},
   "outputs": [
    {
     "name": "stdout",
     "output_type": "stream",
     "text": [
      "[[1, 2, 3, 4, 5], [0, 2, 3, 4, 5], [0, 0, 0, 3, 2], [0, 0, 0, 6, 7], [0, 0, 0, 9, 9]]\n"
     ]
    }
   ],
   "source": [
    "A = [[0, 2, 3, 4, 5], \n",
    "    [0, 0, 0, 3, 2], \n",
    "    [1, 2, 3, 4, 5], \n",
    "    [0, 0, 0, 6, 7],\n",
    "    [0, 0, 0, 9, 9]]\n",
    "\n",
    "print(pivoting(A))"
   ]
  },
  {
   "cell_type": "code",
   "execution_count": 3,
   "metadata": {},
   "outputs": [],
   "source": [
    "def row_reduce(mat):\n",
    "    rref = []\n",
    "    row_idx = list(range(len(mat)))\n",
    "    col_idx = len(mat[0])\n",
    "    for c in range(col_idx):\n",
    "        rows_with_nonzero = [r for r in row_idx if mat[r][c] != 0]\n",
    "        if rows_with_nonzero:\n",
    "            pivot = rows_with_nonzero[0]\n",
    "            row_idx.remove(pivot)\n",
    "            rref.append(mat[pivot])\n",
    "            for r in rows_with_nonzero:\n",
    "                if r is not pivot:\n",
    "                    multiplier = mat[r][c] / mat[pivot][c]\n",
    "                    mat[r] = [a - multiplier*b for a, b in zip(mat[r], mat[pivot])]           \n",
    "    for r in row_idx:\n",
    "        rref.append(mat[r])\n",
    "    return rref"
   ]
  },
  {
   "cell_type": "code",
   "execution_count": 4,
   "metadata": {},
   "outputs": [
    {
     "data": {
      "text/plain": [
       "[[1, 2, 3, 4, 5],\n",
       " [0, 2, 3, 4, 5],\n",
       " [0, 0, 0, 3, 2],\n",
       " [0.0, 0.0, 0.0, 0.0, 3.0],\n",
       " [0.0, 0.0, 0.0, 0.0, 0.0]]"
      ]
     },
     "execution_count": 4,
     "metadata": {},
     "output_type": "execute_result"
    }
   ],
   "source": [
    "mat = [[0, 2, 3, 4, 5], \n",
    "         [0, 0, 0, 3, 2], \n",
    "         [1, 2, 3, 4, 5], \n",
    "         [0, 0, 0, 6, 7], \n",
    "         [0, 0, 0, 9, 9]]\n",
    "\n",
    "row_reduce(mat)"
   ]
  }
 ],
 "metadata": {
  "kernelspec": {
   "display_name": "Python 3",
   "language": "python",
   "name": "python3"
  },
  "language_info": {
   "codemirror_mode": {
    "name": "ipython",
    "version": 3
   },
   "file_extension": ".py",
   "mimetype": "text/x-python",
   "name": "python",
   "nbconvert_exporter": "python",
   "pygments_lexer": "ipython3",
   "version": "3.6.9"
  }
 },
 "nbformat": 4,
 "nbformat_minor": 4
}
